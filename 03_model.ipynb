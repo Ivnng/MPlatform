{
 "cells": [
  {
   "attachments": {},
   "cell_type": "markdown",
   "metadata": {},
   "source": [
    "Metadata Based Movie Recommender"
   ]
  },
  {
   "cell_type": "code",
   "execution_count": 1,
   "metadata": {},
   "outputs": [],
   "source": [
    "#Import libraries\n",
    "import pandas as pd"
   ]
  },
  {
   "cell_type": "code",
   "execution_count": 30,
   "metadata": {},
   "outputs": [],
   "source": [
    "#Read files\n",
    "title = pd.read_csv('./transformed_data/title.csv')\n"
   ]
  },
  {
   "cell_type": "code",
   "execution_count": 3,
   "metadata": {},
   "outputs": [],
   "source": [
    "#Delete unnamed column\n",
    "del title['Unnamed: 0']\n"
   ]
  },
  {
   "attachments": {},
   "cell_type": "markdown",
   "metadata": {},
   "source": [
    "Features:\n",
    "- cast (top 3)\n",
    "- category"
   ]
  },
  {
   "cell_type": "code",
   "execution_count": 4,
   "metadata": {},
   "outputs": [],
   "source": [
    "#Parse stringified features into corresponding python objects\n",
    "from ast import literal_eval\n",
    "\n",
    "features = ['cast', 'category']\n",
    "for feature in features:\n",
    "    title[feature] = title[feature].apply(literal_eval)\n"
   ]
  },
  {
   "cell_type": "code",
   "execution_count": 5,
   "metadata": {},
   "outputs": [],
   "source": [
    "#Function that returns top 3 elements of a list\n",
    "def get_list(x):\n",
    "    if isinstance(x, list):\n",
    "        names = x\n",
    "        #Check if more than 3 elements exist. If yes, return only first three. If no, return entire list.\n",
    "        if len(names) > 3:\n",
    "            names = names[:3]\n",
    "        return names\n",
    "    #Return empty list in case of missing/malformed data\n",
    "    return []\n"
   ]
  },
  {
   "cell_type": "code",
   "execution_count": 6,
   "metadata": {},
   "outputs": [
    {
     "data": {
      "text/html": [
       "<div>\n",
       "<style scoped>\n",
       "    .dataframe tbody tr th:only-of-type {\n",
       "        vertical-align: middle;\n",
       "    }\n",
       "\n",
       "    .dataframe tbody tr th {\n",
       "        vertical-align: top;\n",
       "    }\n",
       "\n",
       "    .dataframe thead th {\n",
       "        text-align: right;\n",
       "    }\n",
       "</style>\n",
       "<table border=\"1\" class=\"dataframe\">\n",
       "  <thead>\n",
       "    <tr style=\"text-align: right;\">\n",
       "      <th></th>\n",
       "      <th>id</th>\n",
       "      <th>platform</th>\n",
       "      <th>type</th>\n",
       "      <th>title</th>\n",
       "      <th>director</th>\n",
       "      <th>country</th>\n",
       "      <th>date_added</th>\n",
       "      <th>release_year</th>\n",
       "      <th>duration_int</th>\n",
       "      <th>duration_type</th>\n",
       "      <th>description</th>\n",
       "      <th>user_rating</th>\n",
       "      <th>cast</th>\n",
       "      <th>category</th>\n",
       "    </tr>\n",
       "  </thead>\n",
       "  <tbody>\n",
       "    <tr>\n",
       "      <th>0</th>\n",
       "      <td>as1</td>\n",
       "      <td>amazon prime</td>\n",
       "      <td>movie</td>\n",
       "      <td>the grand seduction</td>\n",
       "      <td>don mckellar</td>\n",
       "      <td>canada</td>\n",
       "      <td>2021-03-30</td>\n",
       "      <td>2014</td>\n",
       "      <td>113</td>\n",
       "      <td>min</td>\n",
       "      <td>a small fishing village must procure a local d...</td>\n",
       "      <td>3.467131</td>\n",
       "      <td>[\"brendan gleeson\", \"taylor kitsch\", \"gordon p...</td>\n",
       "      <td>[\"comedy\", \"drama\"]</td>\n",
       "    </tr>\n",
       "    <tr>\n",
       "      <th>1</th>\n",
       "      <td>as2</td>\n",
       "      <td>amazon prime</td>\n",
       "      <td>movie</td>\n",
       "      <td>take care good night</td>\n",
       "      <td>girish joshi</td>\n",
       "      <td>india</td>\n",
       "      <td>2021-03-30</td>\n",
       "      <td>2018</td>\n",
       "      <td>110</td>\n",
       "      <td>min</td>\n",
       "      <td>a metro family decides to fight a cyber crimin...</td>\n",
       "      <td>3.548682</td>\n",
       "      <td>[\"mahesh manjrekar\", \"abhay mahajan\", \"sachin ...</td>\n",
       "      <td>[\"drama\", \"international\"]</td>\n",
       "    </tr>\n",
       "    <tr>\n",
       "      <th>2</th>\n",
       "      <td>as3</td>\n",
       "      <td>amazon prime</td>\n",
       "      <td>movie</td>\n",
       "      <td>secrets of deception</td>\n",
       "      <td>josh webber</td>\n",
       "      <td>united states</td>\n",
       "      <td>2021-03-30</td>\n",
       "      <td>2017</td>\n",
       "      <td>74</td>\n",
       "      <td>min</td>\n",
       "      <td>after a man discovers his wife is cheating on ...</td>\n",
       "      <td>3.500000</td>\n",
       "      <td>[\"tom sizemore\", \"lorenzo lamas\", \"robert lasa...</td>\n",
       "      <td>[\"action\", \"drama\", \"suspense\"]</td>\n",
       "    </tr>\n",
       "    <tr>\n",
       "      <th>3</th>\n",
       "      <td>as4</td>\n",
       "      <td>amazon prime</td>\n",
       "      <td>movie</td>\n",
       "      <td>pink: staying true</td>\n",
       "      <td>sonia anderson</td>\n",
       "      <td>united states</td>\n",
       "      <td>2021-03-30</td>\n",
       "      <td>2014</td>\n",
       "      <td>69</td>\n",
       "      <td>min</td>\n",
       "      <td>pink breaks the mold once again, bringing her ...</td>\n",
       "      <td>3.538055</td>\n",
       "      <td>[\"interviews with: pink\", \"adele\", \"beyoncé\", ...</td>\n",
       "      <td>[\"documentary\"]</td>\n",
       "    </tr>\n",
       "    <tr>\n",
       "      <th>4</th>\n",
       "      <td>as5</td>\n",
       "      <td>amazon prime</td>\n",
       "      <td>movie</td>\n",
       "      <td>monster maker</td>\n",
       "      <td>giles foster</td>\n",
       "      <td>united kingdom</td>\n",
       "      <td>2021-03-30</td>\n",
       "      <td>1989</td>\n",
       "      <td>45</td>\n",
       "      <td>min</td>\n",
       "      <td>teenage matt banting wants to work with a famo...</td>\n",
       "      <td>3.478992</td>\n",
       "      <td>[\"harry dean stanton\", \"kieran o'brien\", \"geor...</td>\n",
       "      <td>[\"drama\", \"fantasy\"]</td>\n",
       "    </tr>\n",
       "  </tbody>\n",
       "</table>\n",
       "</div>"
      ],
      "text/plain": [
       "    id      platform   type                 title        director  \\\n",
       "0  as1  amazon prime  movie   the grand seduction    don mckellar   \n",
       "1  as2  amazon prime  movie  take care good night    girish joshi   \n",
       "2  as3  amazon prime  movie  secrets of deception     josh webber   \n",
       "3  as4  amazon prime  movie    pink: staying true  sonia anderson   \n",
       "4  as5  amazon prime  movie         monster maker    giles foster   \n",
       "\n",
       "          country  date_added  release_year  duration_int duration_type  \\\n",
       "0          canada  2021-03-30          2014           113           min   \n",
       "1           india  2021-03-30          2018           110           min   \n",
       "2   united states  2021-03-30          2017            74           min   \n",
       "3   united states  2021-03-30          2014            69           min   \n",
       "4  united kingdom  2021-03-30          1989            45           min   \n",
       "\n",
       "                                         description  user_rating  \\\n",
       "0  a small fishing village must procure a local d...     3.467131   \n",
       "1  a metro family decides to fight a cyber crimin...     3.548682   \n",
       "2  after a man discovers his wife is cheating on ...     3.500000   \n",
       "3  pink breaks the mold once again, bringing her ...     3.538055   \n",
       "4  teenage matt banting wants to work with a famo...     3.478992   \n",
       "\n",
       "                                                cast  \\\n",
       "0  [\"brendan gleeson\", \"taylor kitsch\", \"gordon p...   \n",
       "1  [\"mahesh manjrekar\", \"abhay mahajan\", \"sachin ...   \n",
       "2  [\"tom sizemore\", \"lorenzo lamas\", \"robert lasa...   \n",
       "3  [\"interviews with: pink\", \"adele\", \"beyoncé\", ...   \n",
       "4  [\"harry dean stanton\", \"kieran o'brien\", \"geor...   \n",
       "\n",
       "                          category  \n",
       "0              [\"comedy\", \"drama\"]  \n",
       "1       [\"drama\", \"international\"]  \n",
       "2  [\"action\", \"drama\", \"suspense\"]  \n",
       "3                  [\"documentary\"]  \n",
       "4             [\"drama\", \"fantasy\"]  "
      ]
     },
     "execution_count": 6,
     "metadata": {},
     "output_type": "execute_result"
    }
   ],
   "source": [
    "title.head()"
   ]
  },
  {
   "cell_type": "code",
   "execution_count": 7,
   "metadata": {},
   "outputs": [],
   "source": [
    "#Define new cast and category lists with the get_list(x) function, for the top 3\n",
    "features = ['cast', 'category']\n",
    "for feature in features:\n",
    "    title[feature] = title[feature].apply(get_list)\n"
   ]
  },
  {
   "cell_type": "code",
   "execution_count": 8,
   "metadata": {},
   "outputs": [
    {
     "data": {
      "text/html": [
       "<div>\n",
       "<style scoped>\n",
       "    .dataframe tbody tr th:only-of-type {\n",
       "        vertical-align: middle;\n",
       "    }\n",
       "\n",
       "    .dataframe tbody tr th {\n",
       "        vertical-align: top;\n",
       "    }\n",
       "\n",
       "    .dataframe thead th {\n",
       "        text-align: right;\n",
       "    }\n",
       "</style>\n",
       "<table border=\"1\" class=\"dataframe\">\n",
       "  <thead>\n",
       "    <tr style=\"text-align: right;\">\n",
       "      <th></th>\n",
       "      <th>id</th>\n",
       "      <th>platform</th>\n",
       "      <th>type</th>\n",
       "      <th>title</th>\n",
       "      <th>director</th>\n",
       "      <th>country</th>\n",
       "      <th>date_added</th>\n",
       "      <th>release_year</th>\n",
       "      <th>duration_int</th>\n",
       "      <th>duration_type</th>\n",
       "      <th>description</th>\n",
       "      <th>user_rating</th>\n",
       "      <th>cast</th>\n",
       "      <th>category</th>\n",
       "    </tr>\n",
       "  </thead>\n",
       "  <tbody>\n",
       "    <tr>\n",
       "      <th>0</th>\n",
       "      <td>as1</td>\n",
       "      <td>amazon prime</td>\n",
       "      <td>movie</td>\n",
       "      <td>the grand seduction</td>\n",
       "      <td>don mckellar</td>\n",
       "      <td>canada</td>\n",
       "      <td>2021-03-30</td>\n",
       "      <td>2014</td>\n",
       "      <td>113</td>\n",
       "      <td>min</td>\n",
       "      <td>a small fishing village must procure a local d...</td>\n",
       "      <td>3.467131</td>\n",
       "      <td>[\"brendan gleeson\", \"taylor kitsch\", \"gordon p...</td>\n",
       "      <td>[\"comedy\", \"drama\"]</td>\n",
       "    </tr>\n",
       "    <tr>\n",
       "      <th>1</th>\n",
       "      <td>as2</td>\n",
       "      <td>amazon prime</td>\n",
       "      <td>movie</td>\n",
       "      <td>take care good night</td>\n",
       "      <td>girish joshi</td>\n",
       "      <td>india</td>\n",
       "      <td>2021-03-30</td>\n",
       "      <td>2018</td>\n",
       "      <td>110</td>\n",
       "      <td>min</td>\n",
       "      <td>a metro family decides to fight a cyber crimin...</td>\n",
       "      <td>3.548682</td>\n",
       "      <td>[\"mahesh manjrekar\", \"abhay mahajan\", \"sachin ...</td>\n",
       "      <td>[\"drama\", \"international\"]</td>\n",
       "    </tr>\n",
       "    <tr>\n",
       "      <th>2</th>\n",
       "      <td>as3</td>\n",
       "      <td>amazon prime</td>\n",
       "      <td>movie</td>\n",
       "      <td>secrets of deception</td>\n",
       "      <td>josh webber</td>\n",
       "      <td>united states</td>\n",
       "      <td>2021-03-30</td>\n",
       "      <td>2017</td>\n",
       "      <td>74</td>\n",
       "      <td>min</td>\n",
       "      <td>after a man discovers his wife is cheating on ...</td>\n",
       "      <td>3.500000</td>\n",
       "      <td>[\"tom sizemore\", \"lorenzo lamas\", \"robert lasa...</td>\n",
       "      <td>[\"action\", \"drama\", \"suspense\"]</td>\n",
       "    </tr>\n",
       "    <tr>\n",
       "      <th>3</th>\n",
       "      <td>as4</td>\n",
       "      <td>amazon prime</td>\n",
       "      <td>movie</td>\n",
       "      <td>pink: staying true</td>\n",
       "      <td>sonia anderson</td>\n",
       "      <td>united states</td>\n",
       "      <td>2021-03-30</td>\n",
       "      <td>2014</td>\n",
       "      <td>69</td>\n",
       "      <td>min</td>\n",
       "      <td>pink breaks the mold once again, bringing her ...</td>\n",
       "      <td>3.538055</td>\n",
       "      <td>[\"interviews with: pink\", \"adele\", \"beyoncé\"]</td>\n",
       "      <td>[\"documentary\"]</td>\n",
       "    </tr>\n",
       "    <tr>\n",
       "      <th>4</th>\n",
       "      <td>as5</td>\n",
       "      <td>amazon prime</td>\n",
       "      <td>movie</td>\n",
       "      <td>monster maker</td>\n",
       "      <td>giles foster</td>\n",
       "      <td>united kingdom</td>\n",
       "      <td>2021-03-30</td>\n",
       "      <td>1989</td>\n",
       "      <td>45</td>\n",
       "      <td>min</td>\n",
       "      <td>teenage matt banting wants to work with a famo...</td>\n",
       "      <td>3.478992</td>\n",
       "      <td>[\"harry dean stanton\", \"kieran o'brien\", \"geor...</td>\n",
       "      <td>[\"drama\", \"fantasy\"]</td>\n",
       "    </tr>\n",
       "  </tbody>\n",
       "</table>\n",
       "</div>"
      ],
      "text/plain": [
       "    id      platform   type                 title        director  \\\n",
       "0  as1  amazon prime  movie   the grand seduction    don mckellar   \n",
       "1  as2  amazon prime  movie  take care good night    girish joshi   \n",
       "2  as3  amazon prime  movie  secrets of deception     josh webber   \n",
       "3  as4  amazon prime  movie    pink: staying true  sonia anderson   \n",
       "4  as5  amazon prime  movie         monster maker    giles foster   \n",
       "\n",
       "          country  date_added  release_year  duration_int duration_type  \\\n",
       "0          canada  2021-03-30          2014           113           min   \n",
       "1           india  2021-03-30          2018           110           min   \n",
       "2   united states  2021-03-30          2017            74           min   \n",
       "3   united states  2021-03-30          2014            69           min   \n",
       "4  united kingdom  2021-03-30          1989            45           min   \n",
       "\n",
       "                                         description  user_rating  \\\n",
       "0  a small fishing village must procure a local d...     3.467131   \n",
       "1  a metro family decides to fight a cyber crimin...     3.548682   \n",
       "2  after a man discovers his wife is cheating on ...     3.500000   \n",
       "3  pink breaks the mold once again, bringing her ...     3.538055   \n",
       "4  teenage matt banting wants to work with a famo...     3.478992   \n",
       "\n",
       "                                                cast  \\\n",
       "0  [\"brendan gleeson\", \"taylor kitsch\", \"gordon p...   \n",
       "1  [\"mahesh manjrekar\", \"abhay mahajan\", \"sachin ...   \n",
       "2  [\"tom sizemore\", \"lorenzo lamas\", \"robert lasa...   \n",
       "3      [\"interviews with: pink\", \"adele\", \"beyoncé\"]   \n",
       "4  [\"harry dean stanton\", \"kieran o'brien\", \"geor...   \n",
       "\n",
       "                          category  \n",
       "0              [\"comedy\", \"drama\"]  \n",
       "1       [\"drama\", \"international\"]  \n",
       "2  [\"action\", \"drama\", \"suspense\"]  \n",
       "3                  [\"documentary\"]  \n",
       "4             [\"drama\", \"fantasy\"]  "
      ]
     },
     "execution_count": 8,
     "metadata": {},
     "output_type": "execute_result"
    }
   ],
   "source": [
    "title.head()"
   ]
  },
  {
   "cell_type": "code",
   "execution_count": 9,
   "metadata": {},
   "outputs": [],
   "source": [
    "#Strip names of spaces\n",
    "def clean_data(x):\n",
    "    if isinstance(x, list):\n",
    "        return [i.replace(' ', '') for i in x]\n",
    "    else:\n",
    "        #Check if director exists. If not, return empty string\n",
    "        if isinstance(x, str):\n",
    "            return str.lower(x.replace(\" \", \"\"))\n",
    "        else:\n",
    "            return ''"
   ]
  },
  {
   "cell_type": "code",
   "execution_count": 10,
   "metadata": {},
   "outputs": [],
   "source": [
    "#Apply clean_data\n",
    "features = ['cast', 'category']\n",
    "for feature in features:\n",
    "    title[feature] = title[feature].apply(clean_data)"
   ]
  },
  {
   "cell_type": "code",
   "execution_count": 11,
   "metadata": {},
   "outputs": [
    {
     "data": {
      "text/html": [
       "<div>\n",
       "<style scoped>\n",
       "    .dataframe tbody tr th:only-of-type {\n",
       "        vertical-align: middle;\n",
       "    }\n",
       "\n",
       "    .dataframe tbody tr th {\n",
       "        vertical-align: top;\n",
       "    }\n",
       "\n",
       "    .dataframe thead th {\n",
       "        text-align: right;\n",
       "    }\n",
       "</style>\n",
       "<table border=\"1\" class=\"dataframe\">\n",
       "  <thead>\n",
       "    <tr style=\"text-align: right;\">\n",
       "      <th></th>\n",
       "      <th>title</th>\n",
       "      <th>country</th>\n",
       "      <th>cast</th>\n",
       "      <th>category</th>\n",
       "      <th>user_rating</th>\n",
       "    </tr>\n",
       "  </thead>\n",
       "  <tbody>\n",
       "    <tr>\n",
       "      <th>0</th>\n",
       "      <td>the grand seduction</td>\n",
       "      <td>canada</td>\n",
       "      <td>[\"brendangleeson\", \"taylorkitsch\", \"gordonpins...</td>\n",
       "      <td>[\"comedy\", \"drama\"]</td>\n",
       "      <td>3.467131</td>\n",
       "    </tr>\n",
       "    <tr>\n",
       "      <th>1</th>\n",
       "      <td>take care good night</td>\n",
       "      <td>india</td>\n",
       "      <td>[\"maheshmanjrekar\", \"abhaymahajan\", \"sachinkhe...</td>\n",
       "      <td>[\"drama\", \"international\"]</td>\n",
       "      <td>3.548682</td>\n",
       "    </tr>\n",
       "    <tr>\n",
       "      <th>2</th>\n",
       "      <td>secrets of deception</td>\n",
       "      <td>united states</td>\n",
       "      <td>[\"tomsizemore\", \"lorenzolamas\", \"robertlasardo\"]</td>\n",
       "      <td>[\"action\", \"drama\", \"suspense\"]</td>\n",
       "      <td>3.500000</td>\n",
       "    </tr>\n",
       "    <tr>\n",
       "      <th>3</th>\n",
       "      <td>pink: staying true</td>\n",
       "      <td>united states</td>\n",
       "      <td>[\"interviewswith:pink\", \"adele\", \"beyoncé\"]</td>\n",
       "      <td>[\"documentary\"]</td>\n",
       "      <td>3.538055</td>\n",
       "    </tr>\n",
       "    <tr>\n",
       "      <th>4</th>\n",
       "      <td>monster maker</td>\n",
       "      <td>united kingdom</td>\n",
       "      <td>[\"harrydeanstanton\", \"kierano'brien\", \"georgec...</td>\n",
       "      <td>[\"drama\", \"fantasy\"]</td>\n",
       "      <td>3.478992</td>\n",
       "    </tr>\n",
       "  </tbody>\n",
       "</table>\n",
       "</div>"
      ],
      "text/plain": [
       "                  title         country  \\\n",
       "0   the grand seduction          canada   \n",
       "1  take care good night           india   \n",
       "2  secrets of deception   united states   \n",
       "3    pink: staying true   united states   \n",
       "4         monster maker  united kingdom   \n",
       "\n",
       "                                                cast  \\\n",
       "0  [\"brendangleeson\", \"taylorkitsch\", \"gordonpins...   \n",
       "1  [\"maheshmanjrekar\", \"abhaymahajan\", \"sachinkhe...   \n",
       "2   [\"tomsizemore\", \"lorenzolamas\", \"robertlasardo\"]   \n",
       "3        [\"interviewswith:pink\", \"adele\", \"beyoncé\"]   \n",
       "4  [\"harrydeanstanton\", \"kierano'brien\", \"georgec...   \n",
       "\n",
       "                          category  user_rating  \n",
       "0              [\"comedy\", \"drama\"]     3.467131  \n",
       "1       [\"drama\", \"international\"]     3.548682  \n",
       "2  [\"action\", \"drama\", \"suspense\"]     3.500000  \n",
       "3                  [\"documentary\"]     3.538055  \n",
       "4             [\"drama\", \"fantasy\"]     3.478992  "
      ]
     },
     "execution_count": 11,
     "metadata": {},
     "output_type": "execute_result"
    }
   ],
   "source": [
    "#Print features\n",
    "title[['title', 'country', 'cast', 'category', 'user_rating']].head()"
   ]
  },
  {
   "cell_type": "code",
   "execution_count": 12,
   "metadata": {},
   "outputs": [],
   "source": [
    "#Create 'metadata soup', a string containing all metadata that will be fed to the vectorizer\n",
    "def create_soup(x):\n",
    "    return ' '.join(x['cast']) + ' ' + ' '.join(x['category'])"
   ]
  },
  {
   "cell_type": "code",
   "execution_count": 13,
   "metadata": {},
   "outputs": [],
   "source": [
    "#New soup feature\n",
    "title['soup'] = title.apply(create_soup, axis = 1)"
   ]
  },
  {
   "cell_type": "code",
   "execution_count": 14,
   "metadata": {},
   "outputs": [
    {
     "data": {
      "text/html": [
       "<div>\n",
       "<style scoped>\n",
       "    .dataframe tbody tr th:only-of-type {\n",
       "        vertical-align: middle;\n",
       "    }\n",
       "\n",
       "    .dataframe tbody tr th {\n",
       "        vertical-align: top;\n",
       "    }\n",
       "\n",
       "    .dataframe thead th {\n",
       "        text-align: right;\n",
       "    }\n",
       "</style>\n",
       "<table border=\"1\" class=\"dataframe\">\n",
       "  <thead>\n",
       "    <tr style=\"text-align: right;\">\n",
       "      <th></th>\n",
       "      <th>soup</th>\n",
       "    </tr>\n",
       "  </thead>\n",
       "  <tbody>\n",
       "    <tr>\n",
       "      <th>0</th>\n",
       "      <td>\"brendangleeson\" \"taylorkitsch\" \"gordonpinsent...</td>\n",
       "    </tr>\n",
       "    <tr>\n",
       "      <th>1</th>\n",
       "      <td>\"maheshmanjrekar\" \"abhaymahajan\" \"sachinkhedek...</td>\n",
       "    </tr>\n",
       "    <tr>\n",
       "      <th>2</th>\n",
       "      <td>\"tomsizemore\" \"lorenzolamas\" \"robertlasardo\" \"...</td>\n",
       "    </tr>\n",
       "    <tr>\n",
       "      <th>3</th>\n",
       "      <td>\"interviewswith:pink\" \"adele\" \"beyoncé\" \"docum...</td>\n",
       "    </tr>\n",
       "    <tr>\n",
       "      <th>4</th>\n",
       "      <td>\"harrydeanstanton\" \"kierano'brien\" \"georgecost...</td>\n",
       "    </tr>\n",
       "  </tbody>\n",
       "</table>\n",
       "</div>"
      ],
      "text/plain": [
       "                                                soup\n",
       "0  \"brendangleeson\" \"taylorkitsch\" \"gordonpinsent...\n",
       "1  \"maheshmanjrekar\" \"abhaymahajan\" \"sachinkhedek...\n",
       "2  \"tomsizemore\" \"lorenzolamas\" \"robertlasardo\" \"...\n",
       "3  \"interviewswith:pink\" \"adele\" \"beyoncé\" \"docum...\n",
       "4  \"harrydeanstanton\" \"kierano'brien\" \"georgecost..."
      ]
     },
     "execution_count": 14,
     "metadata": {},
     "output_type": "execute_result"
    }
   ],
   "source": [
    "title[['soup']].head()"
   ]
  },
  {
   "cell_type": "code",
   "execution_count": 15,
   "metadata": {},
   "outputs": [],
   "source": [
    "#Import CountVectorizer\n",
    "from sklearn.feature_extraction.text import CountVectorizer"
   ]
  },
  {
   "cell_type": "code",
   "execution_count": 16,
   "metadata": {},
   "outputs": [],
   "source": [
    "#Create the count matrix\n",
    "count = CountVectorizer(stop_words= 'english')\n",
    "count_matrix = count.fit_transform(title['soup'])"
   ]
  },
  {
   "cell_type": "code",
   "execution_count": 17,
   "metadata": {},
   "outputs": [
    {
     "data": {
      "text/plain": [
       "(22998, 28635)"
      ]
     },
     "execution_count": 17,
     "metadata": {},
     "output_type": "execute_result"
    }
   ],
   "source": [
    "count_matrix.shape\n",
    "#28,635 vocabularies in the data fed to the matrix"
   ]
  },
  {
   "cell_type": "code",
   "execution_count": 18,
   "metadata": {},
   "outputs": [],
   "source": [
    "#Use cosine_similarity to measure the distance between embeddings\n",
    "from sklearn.metrics.pairwise import cosine_similarity"
   ]
  },
  {
   "cell_type": "code",
   "execution_count": 19,
   "metadata": {},
   "outputs": [],
   "source": [
    "#Compute cosine similarity matrix based on the count_matrix\n",
    "cosine_sim = cosine_similarity(count_matrix, count_matrix)"
   ]
  },
  {
   "cell_type": "code",
   "execution_count": 20,
   "metadata": {},
   "outputs": [],
   "source": [
    "#Reset index of main DataFrame and construct reverse mapping\n",
    "title = title.reset_index()"
   ]
  },
  {
   "cell_type": "code",
   "execution_count": 21,
   "metadata": {},
   "outputs": [],
   "source": [
    "indices = pd.Series(title.index, index = title['title']).drop_duplicates()"
   ]
  },
  {
   "cell_type": "code",
   "execution_count": 22,
   "metadata": {},
   "outputs": [
    {
     "data": {
      "text/plain": [
       "title\n",
       "the grand seduction      0\n",
       "take care good night     1\n",
       "secrets of deception     2\n",
       "pink: staying true       3\n",
       "monster maker            4\n",
       "living with dinosaurs    5\n",
       "hired gun                6\n",
       "grease live!             7\n",
       "global meltdown          8\n",
       "david's mother           9\n",
       "dtype: int64"
      ]
     },
     "execution_count": 22,
     "metadata": {},
     "output_type": "execute_result"
    }
   ],
   "source": [
    "indices[:10]"
   ]
  },
  {
   "cell_type": "code",
   "execution_count": 23,
   "metadata": {},
   "outputs": [],
   "source": [
    "#Define the get_recommendations() function.\n",
    "def get_recommendations(name, cosine_sim=cosine_sim):\n",
    "    #Get the index of the movie that matches the title.\n",
    "    index = indices[name]\n",
    "\n",
    "    #Get the similarity scores of all movies with that movie.\n",
    "    sim_scores = list(enumerate(cosine_sim[index]))\n",
    "\n",
    "    #Sort the movies based on the similarity scores.\n",
    "    sim_scores = sorted(sim_scores, key = lambda x: x[1], reverse = True)\n",
    "\n",
    "    #Get the scores of the 10 most similar movies\n",
    "    sim_scores = sim_scores[1:11]\n",
    "\n",
    "    #Get the movie indices\n",
    "    movie_indices = [i[0] for i in sim_scores]\n",
    "\n",
    "    #Return the top 10 most similar movies\n",
    "    return title['title'].iloc[movie_indices]"
   ]
  },
  {
   "cell_type": "code",
   "execution_count": 28,
   "metadata": {},
   "outputs": [
    {
     "data": {
      "text/plain": [
       "15731                  nocturnal animals\n",
       "18337                     velvet buzzsaw\n",
       "21776                       nightcrawler\n",
       "17619    el camino: a breaking bad movie\n",
       "14313                         in the cut\n",
       "15549                     shutter island\n",
       "17503              oththa seruppu size 7\n",
       "14239                       training day\n",
       "14546                 the lincoln lawyer\n",
       "14789                       the american\n",
       "Name: title, dtype: object"
      ]
     },
     "execution_count": 28,
     "metadata": {},
     "output_type": "execute_result"
    }
   ],
   "source": [
    "#Test the function.\n",
    "get_recommendations('zodiac')"
   ]
  },
  {
   "attachments": {},
   "cell_type": "markdown",
   "metadata": {},
   "source": [
    "Streamlit app"
   ]
  },
  {
   "cell_type": "code",
   "execution_count": 25,
   "metadata": {},
   "outputs": [
    {
     "name": "stderr",
     "output_type": "stream",
     "text": [
      "2023-03-19 14:39:18.269 INFO    matplotlib.font_manager: generated new fontManager\n"
     ]
    }
   ],
   "source": [
    "import streamlit as st"
   ]
  },
  {
   "cell_type": "code",
   "execution_count": 29,
   "metadata": {},
   "outputs": [
    {
     "ename": "KeyError",
     "evalue": "''",
     "output_type": "error",
     "traceback": [
      "\u001b[1;31m---------------------------------------------------------------------------\u001b[0m",
      "\u001b[1;31mKeyError\u001b[0m                                  Traceback (most recent call last)",
      "File \u001b[1;32md:\\IVANNA\\Henry\\P01\\Lib\\site-packages\\pandas\\core\\indexes\\base.py:3802\u001b[0m, in \u001b[0;36mIndex.get_loc\u001b[1;34m(self, key, method, tolerance)\u001b[0m\n\u001b[0;32m   3801\u001b[0m \u001b[39mtry\u001b[39;00m:\n\u001b[1;32m-> 3802\u001b[0m     \u001b[39mreturn\u001b[39;00m \u001b[39mself\u001b[39;49m\u001b[39m.\u001b[39;49m_engine\u001b[39m.\u001b[39;49mget_loc(casted_key)\n\u001b[0;32m   3803\u001b[0m \u001b[39mexcept\u001b[39;00m \u001b[39mKeyError\u001b[39;00m \u001b[39mas\u001b[39;00m err:\n",
      "File \u001b[1;32md:\\IVANNA\\Henry\\P01\\Lib\\site-packages\\pandas\\_libs\\index.pyx:138\u001b[0m, in \u001b[0;36mpandas._libs.index.IndexEngine.get_loc\u001b[1;34m()\u001b[0m\n",
      "File \u001b[1;32md:\\IVANNA\\Henry\\P01\\Lib\\site-packages\\pandas\\_libs\\index.pyx:162\u001b[0m, in \u001b[0;36mpandas._libs.index.IndexEngine.get_loc\u001b[1;34m()\u001b[0m\n",
      "File \u001b[1;32md:\\IVANNA\\Henry\\P01\\Lib\\site-packages\\pandas\\_libs\\index.pyx:203\u001b[0m, in \u001b[0;36mpandas._libs.index.IndexEngine._get_loc_duplicates\u001b[1;34m()\u001b[0m\n",
      "File \u001b[1;32md:\\IVANNA\\Henry\\P01\\Lib\\site-packages\\pandas\\_libs\\index.pyx:211\u001b[0m, in \u001b[0;36mpandas._libs.index.IndexEngine._maybe_get_bool_indexer\u001b[1;34m()\u001b[0m\n",
      "File \u001b[1;32md:\\IVANNA\\Henry\\P01\\Lib\\site-packages\\pandas\\_libs\\index.pyx:107\u001b[0m, in \u001b[0;36mpandas._libs.index._unpack_bool_indexer\u001b[1;34m()\u001b[0m\n",
      "\u001b[1;31mKeyError\u001b[0m: ''",
      "\nThe above exception was the direct cause of the following exception:\n",
      "\u001b[1;31mKeyError\u001b[0m                                  Traceback (most recent call last)",
      "Cell \u001b[1;32mIn[29], line 12\u001b[0m\n\u001b[0;32m     10\u001b[0m \u001b[39mwith\u001b[39;00m st\u001b[39m.\u001b[39mspinner(\u001b[39m\"\u001b[39m\u001b[39mGetting the recommendations...\u001b[39m\u001b[39m\"\u001b[39m):\n\u001b[0;32m     11\u001b[0m     \u001b[39mif\u001b[39;00m \u001b[39misinstance\u001b[39m(name, \u001b[39mstr\u001b[39m):\n\u001b[1;32m---> 12\u001b[0m         get_recommendations(name \u001b[39m=\u001b[39;49m name, cosine_sim \u001b[39m=\u001b[39;49m cosine_sim)\n\u001b[0;32m     13\u001b[0m     \u001b[39melse\u001b[39;00m:\n\u001b[0;32m     14\u001b[0m         \u001b[39mprint\u001b[39m(\u001b[39m\"\u001b[39m\u001b[39mPlease rewrite the movie title.\u001b[39m\u001b[39m\"\u001b[39m)\n",
      "Cell \u001b[1;32mIn[23], line 4\u001b[0m, in \u001b[0;36mget_recommendations\u001b[1;34m(name, cosine_sim)\u001b[0m\n\u001b[0;32m      2\u001b[0m \u001b[39mdef\u001b[39;00m \u001b[39mget_recommendations\u001b[39m(name, cosine_sim\u001b[39m=\u001b[39mcosine_sim):\n\u001b[0;32m      3\u001b[0m     \u001b[39m#Get the index of the movie that matches the title.\u001b[39;00m\n\u001b[1;32m----> 4\u001b[0m     index \u001b[39m=\u001b[39m indices[name]\n\u001b[0;32m      6\u001b[0m     \u001b[39m#Get the similarity scores of all movies with that movie.\u001b[39;00m\n\u001b[0;32m      7\u001b[0m     sim_scores \u001b[39m=\u001b[39m \u001b[39mlist\u001b[39m(\u001b[39menumerate\u001b[39m(cosine_sim[index]))\n",
      "File \u001b[1;32md:\\IVANNA\\Henry\\P01\\Lib\\site-packages\\pandas\\core\\series.py:981\u001b[0m, in \u001b[0;36mSeries.__getitem__\u001b[1;34m(self, key)\u001b[0m\n\u001b[0;32m    978\u001b[0m     \u001b[39mreturn\u001b[39;00m \u001b[39mself\u001b[39m\u001b[39m.\u001b[39m_values[key]\n\u001b[0;32m    980\u001b[0m \u001b[39melif\u001b[39;00m key_is_scalar:\n\u001b[1;32m--> 981\u001b[0m     \u001b[39mreturn\u001b[39;00m \u001b[39mself\u001b[39;49m\u001b[39m.\u001b[39;49m_get_value(key)\n\u001b[0;32m    983\u001b[0m \u001b[39mif\u001b[39;00m is_hashable(key):\n\u001b[0;32m    984\u001b[0m     \u001b[39m# Otherwise index.get_value will raise InvalidIndexError\u001b[39;00m\n\u001b[0;32m    985\u001b[0m     \u001b[39mtry\u001b[39;00m:\n\u001b[0;32m    986\u001b[0m         \u001b[39m# For labels that don't resolve as scalars like tuples and frozensets\u001b[39;00m\n",
      "File \u001b[1;32md:\\IVANNA\\Henry\\P01\\Lib\\site-packages\\pandas\\core\\series.py:1089\u001b[0m, in \u001b[0;36mSeries._get_value\u001b[1;34m(self, label, takeable)\u001b[0m\n\u001b[0;32m   1086\u001b[0m     \u001b[39mreturn\u001b[39;00m \u001b[39mself\u001b[39m\u001b[39m.\u001b[39m_values[label]\n\u001b[0;32m   1088\u001b[0m \u001b[39m# Similar to Index.get_value, but we do not fall back to positional\u001b[39;00m\n\u001b[1;32m-> 1089\u001b[0m loc \u001b[39m=\u001b[39m \u001b[39mself\u001b[39;49m\u001b[39m.\u001b[39;49mindex\u001b[39m.\u001b[39;49mget_loc(label)\n\u001b[0;32m   1090\u001b[0m \u001b[39mreturn\u001b[39;00m \u001b[39mself\u001b[39m\u001b[39m.\u001b[39mindex\u001b[39m.\u001b[39m_get_values_for_loc(\u001b[39mself\u001b[39m, loc, label)\n",
      "File \u001b[1;32md:\\IVANNA\\Henry\\P01\\Lib\\site-packages\\pandas\\core\\indexes\\base.py:3804\u001b[0m, in \u001b[0;36mIndex.get_loc\u001b[1;34m(self, key, method, tolerance)\u001b[0m\n\u001b[0;32m   3802\u001b[0m     \u001b[39mreturn\u001b[39;00m \u001b[39mself\u001b[39m\u001b[39m.\u001b[39m_engine\u001b[39m.\u001b[39mget_loc(casted_key)\n\u001b[0;32m   3803\u001b[0m \u001b[39mexcept\u001b[39;00m \u001b[39mKeyError\u001b[39;00m \u001b[39mas\u001b[39;00m err:\n\u001b[1;32m-> 3804\u001b[0m     \u001b[39mraise\u001b[39;00m \u001b[39mKeyError\u001b[39;00m(key) \u001b[39mfrom\u001b[39;00m \u001b[39merr\u001b[39;00m\n\u001b[0;32m   3805\u001b[0m \u001b[39mexcept\u001b[39;00m \u001b[39mTypeError\u001b[39;00m:\n\u001b[0;32m   3806\u001b[0m     \u001b[39m# If we have a listlike key, _check_indexing_error will raise\u001b[39;00m\n\u001b[0;32m   3807\u001b[0m     \u001b[39m#  InvalidIndexError. Otherwise we fall through and re-raise\u001b[39;00m\n\u001b[0;32m   3808\u001b[0m     \u001b[39m#  the TypeError.\u001b[39;00m\n\u001b[0;32m   3809\u001b[0m     \u001b[39mself\u001b[39m\u001b[39m.\u001b[39m_check_indexing_error(key)\n",
      "\u001b[1;31mKeyError\u001b[0m: ''"
     ]
    }
   ],
   "source": [
    "st.title(\"Basic Movie Recommendation System\")\n",
    "st.image(\"https://cdn.pixabay.com/photo/2016/03/31/18/36/cinema-1294496__340.png\")\n",
    "st.caption(\"This app takes the name of a movie and returns ten recommendations based on cast and category.\")\n",
    "\n",
    "st.write(title)\n",
    "\n",
    "name = st.text_input(\"Movie Title: \")\n",
    "name = str(name)\n",
    "name = name.lower()\n",
    "\n",
    "\n",
    "with st.spinner(\"Getting the recommendations...\"):\n",
    "    if isinstance(name, str):\n",
    "        get_recommendations(name = name, cosine_sim = cosine_sim)\n",
    "    else:\n",
    "        print(\"Please rewrite the movie title.\")"
   ]
  }
 ],
 "metadata": {
  "kernelspec": {
   "display_name": "Python 3",
   "language": "python",
   "name": "python3"
  },
  "language_info": {
   "codemirror_mode": {
    "name": "ipython",
    "version": 3
   },
   "file_extension": ".py",
   "mimetype": "text/x-python",
   "name": "python",
   "nbconvert_exporter": "python",
   "pygments_lexer": "ipython3",
   "version": "3.11.2"
  },
  "orig_nbformat": 4
 },
 "nbformat": 4,
 "nbformat_minor": 2
}
