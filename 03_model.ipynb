{
 "cells": [
  {
   "attachments": {},
   "cell_type": "markdown",
   "metadata": {},
   "source": [
    "The purpose of this model is to create a very basic recommendation system based on the ratings the users gave to some movies."
   ]
  },
  {
   "cell_type": "code",
   "execution_count": 28,
   "metadata": {},
   "outputs": [],
   "source": [
    "import pandas as pd\n",
    "from surprise import Dataset, Reader, SVD\n",
    "from surprise.model_selection import KFold\n"
   ]
  },
  {
   "attachments": {},
   "cell_type": "markdown",
   "metadata": {},
   "source": [
    "As this is a 'custom' data set, there's the need to define a Reader object for Surprise to be able to parse the file or dataframe."
   ]
  },
  {
   "cell_type": "code",
   "execution_count": 30,
   "metadata": {},
   "outputs": [],
   "source": [
    "#Reading the file using pandas\n",
    "rating = pd.read_csv('transformed_data/rating.csv')"
   ]
  },
  {
   "cell_type": "code",
   "execution_count": 32,
   "metadata": {},
   "outputs": [],
   "source": [
    "#In the rating dataset, each line has the following format: \n",
    "#'id, user_id, rating, timestamp, rating_year'\n",
    "#To read from dataframe we just need 'user_id', 'id', 'rating'.\n",
    "rating_reader = Reader(rating_scale = (1, 5))\n",
    "rating_data = Dataset.load_from_df(rating[['user_id', 'id', 'rating']], reader = rating_reader)\n"
   ]
  },
  {
   "cell_type": "code",
   "execution_count": 33,
   "metadata": {},
   "outputs": [],
   "source": [
    "#Define a cross-validation iterator\n",
    "kf = KFold(n_splits=5)"
   ]
  },
  {
   "cell_type": "code",
   "execution_count": 34,
   "metadata": {},
   "outputs": [],
   "source": [
    "#Using the SVD algorithm.\n",
    "algorithm = SVD()"
   ]
  },
  {
   "cell_type": "code",
   "execution_count": 35,
   "metadata": {},
   "outputs": [
    {
     "name": "stdout",
     "output_type": "stream",
     "text": [
      "RMSE: 1.0022\n",
      "RMSE: 1.0024\n",
      "RMSE: 1.0026\n",
      "RMSE: 1.0009\n",
      "RMSE: 1.0025\n"
     ]
    }
   ],
   "source": [
    "#Let's train the algorithm.\n",
    "for rating_trainset, rating_testset in kf.split(rating_data):\n",
    "\n",
    "    #train and test.\n",
    "    algorithm.fit(rating_trainset)\n",
    "    rating_predictions = algorithm.test(rating_testset)\n",
    "\n",
    "    #print Root Mean Squared Error\n",
    "    accuracy.rmse(rating_predictions, verbose = True)"
   ]
  },
  {
   "attachments": {},
   "cell_type": "markdown",
   "metadata": {},
   "source": [
    "Predict ratings"
   ]
  },
  {
   "cell_type": "code",
   "execution_count": 36,
   "metadata": {},
   "outputs": [
    {
     "name": "stdout",
     "output_type": "stream",
     "text": [
      "user: 14         item: as1577     r_ui = 4.00   est = 3.68   {'was_impossible': False}\n"
     ]
    }
   ],
   "source": [
    "#Let's get some user id with known rating and try to predict its rating.\n",
    "user_id = 14\n",
    "id = 'as1577'\n",
    "predict = algorithm.predict(user_id, id, r_ui = 4, verbose = True)"
   ]
  }
 ],
 "metadata": {
  "kernelspec": {
   "display_name": "tutorial-env",
   "language": "python",
   "name": "python3"
  },
  "language_info": {
   "name": "python",
   "version": "3.10.5"
  },
  "orig_nbformat": 4,
  "vscode": {
   "interpreter": {
    "hash": "4710a87dfc3a65a88b54562914e336e0a5c5f607b05157c293027eb796ca7996"
   }
  }
 },
 "nbformat": 4,
 "nbformat_minor": 2
}
