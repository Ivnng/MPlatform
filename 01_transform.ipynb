{
 "cells": [
  {
   "cell_type": "code",
   "execution_count": 24,
   "metadata": {},
   "outputs": [],
   "source": [
    "#Import libraries.\n",
    "import pandas as pd"
   ]
  },
  {
   "attachments": {},
   "cell_type": "markdown",
   "metadata": {},
   "source": [
    "Rating"
   ]
  },
  {
   "cell_type": "code",
   "execution_count": 25,
   "metadata": {},
   "outputs": [],
   "source": [
    "#Read the files.\n",
    "one = pd.read_csv('source_data/ratings/1.csv')\n",
    "two = pd.read_csv('source_data/ratings/2.csv')\n",
    "three = pd.read_csv('source_data/ratings/3.csv')\n",
    "four = pd.read_csv('source_data/ratings/4.csv')\n",
    "five = pd.read_csv('source_data/ratings/5.csv')\n",
    "six = pd.read_csv('source_data/ratings/6.csv')\n",
    "seven = pd.read_csv('source_data/ratings/7.csv')\n",
    "eight = pd.read_csv('source_data/ratings/8.csv')"
   ]
  },
  {
   "cell_type": "code",
   "execution_count": 26,
   "metadata": {},
   "outputs": [],
   "source": [
    "#Concatenate the ratings files.\n",
    "data = [one, two, three, four, five, six, seven, eight]\n",
    "rating = pd.concat(data)"
   ]
  },
  {
   "cell_type": "code",
   "execution_count": 27,
   "metadata": {},
   "outputs": [],
   "source": [
    "#Modify 'timestamp' column to datetime.\n",
    "rating['timestamp'] = pd.to_datetime(rating['timestamp'], unit = 's')"
   ]
  },
  {
   "cell_type": "code",
   "execution_count": 28,
   "metadata": {},
   "outputs": [],
   "source": [
    "#Rename some titles.\n",
    "rating['id'] = rating['movieId']\n",
    "del rating['movieId']\n",
    "rating['user_id'] = rating['userId']\n",
    "del rating['userId']\n",
    "rating = rating[['id', 'user_id', 'rating', 'timestamp']]"
   ]
  },
  {
   "cell_type": "code",
   "execution_count": 29,
   "metadata": {},
   "outputs": [],
   "source": [
    "#Add a year column.\n",
    "rating['rating_year'] = rating['timestamp'].dt.year\n"
   ]
  },
  {
   "cell_type": "code",
   "execution_count": 30,
   "metadata": {},
   "outputs": [],
   "source": [
    "#Calculate the mean rating by movie and year of rating.\n",
    "mean_rating = rating.groupby(['id', 'rating_year'])['rating'].mean()"
   ]
  },
  {
   "cell_type": "code",
   "execution_count": 31,
   "metadata": {},
   "outputs": [],
   "source": [
    "#Calculate the mean rating overall for the movie.\n",
    "user_rating = rating.groupby('id')['rating'].mean()\n",
    "user_rating.to_csv('transformed_data/user_rating.csv')\n",
    "user_rating = pd.read_csv('transformed_data/user_rating.csv')\n",
    "user_rating.rename(columns = {'rating':'user_rating'}, inplace = True)"
   ]
  },
  {
   "attachments": {},
   "cell_type": "markdown",
   "metadata": {},
   "source": [
    "Title"
   ]
  },
  {
   "cell_type": "code",
   "execution_count": 32,
   "metadata": {},
   "outputs": [
    {
     "name": "stdout",
     "output_type": "stream",
     "text": [
      "<class 'pandas.core.frame.DataFrame'>\n",
      "RangeIndex: 9668 entries, 0 to 9667\n",
      "Data columns (total 14 columns):\n",
      " #   Column        Non-Null Count  Dtype \n",
      "---  ------        --------------  ----- \n",
      " 0   id            9668 non-null   object\n",
      " 1   platform      9668 non-null   object\n",
      " 2   show_id       9668 non-null   object\n",
      " 3   type          9668 non-null   object\n",
      " 4   title         9668 non-null   object\n",
      " 5   director      7586 non-null   object\n",
      " 6   cast          8435 non-null   object\n",
      " 7   country       672 non-null    object\n",
      " 8   date_added    155 non-null    object\n",
      " 9   release_year  9668 non-null   int64 \n",
      " 10  rating        9331 non-null   object\n",
      " 11  duration      9668 non-null   object\n",
      " 12  listed_in     9668 non-null   object\n",
      " 13  description   9668 non-null   object\n",
      "dtypes: int64(1), object(13)\n",
      "memory usage: 1.0+ MB\n"
     ]
    }
   ],
   "source": [
    "#Amazon.\n",
    "amazon = pd.read_csv('source_data/amazon_prime_titles.csv')\n",
    "\n",
    "#Add id column.\n",
    "amazon.insert(0, 'id', 'a' + amazon['show_id'], allow_duplicates = False)\n",
    "#Insert platform column.\n",
    "amazon.insert(1, 'platform', 'amazon prime', allow_duplicates = False)\n",
    "\n",
    "amazon.info()"
   ]
  },
  {
   "cell_type": "code",
   "execution_count": 33,
   "metadata": {},
   "outputs": [
    {
     "name": "stdout",
     "output_type": "stream",
     "text": [
      "<class 'pandas.core.frame.DataFrame'>\n",
      "RangeIndex: 1450 entries, 0 to 1449\n",
      "Data columns (total 14 columns):\n",
      " #   Column        Non-Null Count  Dtype \n",
      "---  ------        --------------  ----- \n",
      " 0   id            1450 non-null   object\n",
      " 1   platform      1450 non-null   object\n",
      " 2   show_id       1450 non-null   object\n",
      " 3   type          1450 non-null   object\n",
      " 4   title         1450 non-null   object\n",
      " 5   director      977 non-null    object\n",
      " 6   cast          1260 non-null   object\n",
      " 7   country       1231 non-null   object\n",
      " 8   date_added    1447 non-null   object\n",
      " 9   release_year  1450 non-null   int64 \n",
      " 10  rating        1447 non-null   object\n",
      " 11  duration      1450 non-null   object\n",
      " 12  listed_in     1450 non-null   object\n",
      " 13  description   1450 non-null   object\n",
      "dtypes: int64(1), object(13)\n",
      "memory usage: 158.7+ KB\n"
     ]
    }
   ],
   "source": [
    "#Disney.\n",
    "disney = pd.read_csv('source_data/disney_plus_titles.csv')\n",
    "\n",
    "#Add id column.\n",
    "disney.insert(0, 'id', 'd' + disney['show_id'], allow_duplicates = False)\n",
    "#Insert platform column.\n",
    "disney.insert(1, 'platform', 'disney', allow_duplicates = False)\n",
    "\n",
    "disney.info()"
   ]
  },
  {
   "cell_type": "code",
   "execution_count": 34,
   "metadata": {},
   "outputs": [
    {
     "name": "stdout",
     "output_type": "stream",
     "text": [
      "<class 'pandas.core.frame.DataFrame'>\n",
      "RangeIndex: 3073 entries, 0 to 3072\n",
      "Data columns (total 14 columns):\n",
      " #   Column        Non-Null Count  Dtype  \n",
      "---  ------        --------------  -----  \n",
      " 0   id            3073 non-null   object \n",
      " 1   platform      3073 non-null   object \n",
      " 2   show_id       3073 non-null   object \n",
      " 3   type          3073 non-null   object \n",
      " 4   title         3073 non-null   object \n",
      " 5   director      3 non-null      object \n",
      " 6   cast          0 non-null      float64\n",
      " 7   country       1620 non-null   object \n",
      " 8   date_added    3045 non-null   object \n",
      " 9   release_year  3073 non-null   int64  \n",
      " 10  rating        2553 non-null   object \n",
      " 11  duration      2594 non-null   object \n",
      " 12  listed_in     3073 non-null   object \n",
      " 13  description   3069 non-null   object \n",
      "dtypes: float64(1), int64(1), object(12)\n",
      "memory usage: 336.2+ KB\n"
     ]
    }
   ],
   "source": [
    "#Hulu.\n",
    "hulu = pd.read_csv('source_data/hulu_titles.csv')\n",
    "\n",
    "#Add id column.\n",
    "hulu.insert(0, 'id', 'h' + hulu['show_id'], allow_duplicates = False)\n",
    "#Insert platform column.\n",
    "hulu.insert(1, 'platform', 'hulu', allow_duplicates = False)\n",
    "\n",
    "hulu.info()"
   ]
  },
  {
   "cell_type": "code",
   "execution_count": 35,
   "metadata": {},
   "outputs": [
    {
     "name": "stdout",
     "output_type": "stream",
     "text": [
      "<class 'pandas.core.frame.DataFrame'>\n",
      "RangeIndex: 8807 entries, 0 to 8806\n",
      "Data columns (total 14 columns):\n",
      " #   Column        Non-Null Count  Dtype \n",
      "---  ------        --------------  ----- \n",
      " 0   id            8807 non-null   object\n",
      " 1   platform      8807 non-null   object\n",
      " 2   show_id       8807 non-null   object\n",
      " 3   type          8807 non-null   object\n",
      " 4   title         8807 non-null   object\n",
      " 5   director      6173 non-null   object\n",
      " 6   cast          7982 non-null   object\n",
      " 7   country       7976 non-null   object\n",
      " 8   date_added    8797 non-null   object\n",
      " 9   release_year  8807 non-null   int64 \n",
      " 10  rating        8803 non-null   object\n",
      " 11  duration      8804 non-null   object\n",
      " 12  listed_in     8807 non-null   object\n",
      " 13  description   8807 non-null   object\n",
      "dtypes: int64(1), object(13)\n",
      "memory usage: 963.4+ KB\n"
     ]
    }
   ],
   "source": [
    "#Netflix.\n",
    "netflix = pd.read_csv('source_data/netflix_titles.csv')\n",
    "\n",
    "#Add id column.\n",
    "netflix.insert(0, 'id', 'n' + netflix['show_id'], allow_duplicates = False)\n",
    "#Insert platform column.\n",
    "netflix.insert(1, 'platform', 'netflix', allow_duplicates = False)\n",
    "\n",
    "netflix.info()"
   ]
  },
  {
   "cell_type": "code",
   "execution_count": 36,
   "metadata": {},
   "outputs": [],
   "source": [
    "#Concatenate the DataFrames.\n",
    "platform = [amazon, disney, hulu, netflix]\n",
    "title = pd.concat(platform)"
   ]
  },
  {
   "cell_type": "code",
   "execution_count": 37,
   "metadata": {},
   "outputs": [],
   "source": [
    "#Delete show_id column.\n",
    "del title['show_id']"
   ]
  },
  {
   "cell_type": "code",
   "execution_count": 38,
   "metadata": {},
   "outputs": [],
   "source": [
    "#Replace NaN in 'rating' for G (general for all audiences).\n",
    "title['rating'] = title['rating'].fillna('G')"
   ]
  },
  {
   "cell_type": "code",
   "execution_count": 39,
   "metadata": {},
   "outputs": [],
   "source": [
    "#Change 'date_added' type to datetime.\n",
    "title['date_added'] = pd.to_datetime(title['date_added'])"
   ]
  },
  {
   "cell_type": "code",
   "execution_count": 40,
   "metadata": {},
   "outputs": [],
   "source": [
    "#Split 'duration' column into 'duration_int' & 'duration_type'.\n",
    "title[['duration_int', 'duration_type']]= title['duration'].str.split(\" \", expand = True)\n",
    "del title['duration']\n",
    "title = title[['id', 'platform', 'type', 'title', 'director', 'cast', 'country', 'date_added', 'release_year', 'duration_int', 'duration_type', 'listed_in', 'description']]"
   ]
  },
  {
   "cell_type": "code",
   "execution_count": 41,
   "metadata": {},
   "outputs": [],
   "source": [
    "#Change NaN values for 0 in 'duration_int', then change the column data type.\n",
    "title['duration_int'] = title['duration_int'].fillna(0)\n",
    "title['duration_int'] = title['duration_int'].replace(['NaN', 'nan'], 0)\n",
    "title['duration_int'] = title['duration_int'].astype('int')"
   ]
  },
  {
   "cell_type": "code",
   "execution_count": 42,
   "metadata": {},
   "outputs": [],
   "source": [
    "#Change 'seasons' to 'season' in 'duration_type'.\n",
    "title['duration_type'] = title['duration_type'].replace(['Seasons', 'seasons', 'Season'], 'season')"
   ]
  },
  {
   "cell_type": "code",
   "execution_count": 43,
   "metadata": {},
   "outputs": [],
   "source": [
    "#Turn all text to lower case.\n",
    "strings = ['type', 'title', 'director', 'cast', 'country', 'duration_type', 'listed_in', 'description']\n",
    "for string in strings:\n",
    "    title[string] = title[string].str.lower()"
   ]
  },
  {
   "cell_type": "code",
   "execution_count": 44,
   "metadata": {},
   "outputs": [],
   "source": [
    "#Join the 'user_rating' calculated with 'title'\n",
    "#df.join(other.set_index('key'), on='key')\n",
    "title = title.join(user_rating.set_index('id'), on='id')"
   ]
  },
  {
   "cell_type": "code",
   "execution_count": 45,
   "metadata": {},
   "outputs": [],
   "source": [
    "#Export title & rating to .csv\n",
    "title.to_csv('transformed_data/title_01.csv')\n",
    "rating.to_csv('transformed_data/rating_01.csv')"
   ]
  }
 ],
 "metadata": {
  "kernelspec": {
   "display_name": "tutorial-env",
   "language": "python",
   "name": "python3"
  },
  "language_info": {
   "codemirror_mode": {
    "name": "ipython",
    "version": 3
   },
   "file_extension": ".py",
   "mimetype": "text/x-python",
   "name": "python",
   "nbconvert_exporter": "python",
   "pygments_lexer": "ipython3",
   "version": "3.10.5"
  },
  "orig_nbformat": 4,
  "vscode": {
   "interpreter": {
    "hash": "4710a87dfc3a65a88b54562914e336e0a5c5f607b05157c293027eb796ca7996"
   }
  }
 },
 "nbformat": 4,
 "nbformat_minor": 2
}
